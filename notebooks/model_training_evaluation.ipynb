{
  "cells": [
    {
      "cell_type": "markdown",
      "metadata": {},
      "source": [
        "# Sentiment Model Training & Evaluation\n",
        "This notebook demonstrates training and evaluating a baseline sentiment model using scikit-learn (TF-IDF + Logistic Regression) and shows how to export the model for inference."
      ]
    },
    {
      "cell_type": "code",
      "execution_count": null,
      "metadata": {},
      "outputs": [],
      "source": [
        "# Install dependencies (if running on a fresh environment)\n",
        "%pip -q install -r ../requirements.txt || true"
      ]
    },
    {
      "cell_type": "code",
      "execution_count": null,
      "metadata": {},
      "outputs": [],
      "source": [
        "import os\n",
        "import json\n",
        "import numpy as np\n",
        "import pandas as pd\n",
        "from sklearn.model_selection import train_test_split\n",
        "from sklearn.feature_extraction.text import TfidfVectorizer\n",
        "from sklearn.linear_model import LogisticRegression\n",
        "from sklearn.metrics import classification_report, confusion_matrix, accuracy_score\n",
        "import joblib\n",
        "\n",
        "DATA_PATH = '../data/processed/train.csv'\n",
        "MODEL_DIR = '../artifacts'\n",
        "os.makedirs(MODEL_DIR, exist_ok=True)"
      ]
    },
    {
      "cell_type": "markdown",
      "metadata": {},
      "source": [
        "## Load dataset\n",
        "Expecting columns: `text` and `label` (label in {negative, neutral, positive})."
      ]
    },
    {
      "cell_type": "code",
      "execution_count": null,
      "metadata": {},
      "outputs": [],
      "source": [
        "if not os.path.exists(DATA_PATH):\n",
        "    # Create a tiny demo dataset if not found\n",
        "    demo = pd.DataFrame({\n",
        "        'text': [\n",
        "            'I love this product so much!',\n",
        "            'This is the worst experience ever.',\n",
        "            'It is okay, not great but not bad either.',\n",
        "            'Absolutely fantastic performance and quality.',\n",
        "            'Pretty disappointing and frustrating to use.'\n",
        "        ],\n",
        "        'label': ['positive','negative','neutral','positive','negative']\n",
        "    })\n",
        "    demo_path = '../data/processed'\n",
        "    os.makedirs(demo_path, exist_ok=True)\n",
        "    demo.to_csv(DATA_PATH, index=False)\n",
        "\n",
        "df = pd.read_csv(DATA_PATH)\n",
        "df.head()"
      ]
    },
    {
      "cell_type": "markdown",
      "metadata": {},
      "source": [
        "## Train/Validation split"
      ]
    },
    {
      "cell_type": "code",
      "execution_count": null,
      "metadata": {},
      "outputs": [],
      "source": [
        "X_train, X_test, y_train, y_test = train_test_split(\n",
        "    df['text'].astype(str), df['label'].astype(str), test_size=0.2, random_state=42, stratify=df['label']\n",
        ")\n",
        "len(X_train), len(X_test)"
      ]
    },
    {
      "cell_type": "markdown",
      "metadata": {},
      "source": [
        "## Vectorizer + Model pipeline (TF-IDF + Logistic Regression)"
      ]
    },
    {
      "cell_type": "code",
      "execution_count": null,
      "metadata": {},
      "outputs": [],
      "source": [
        "vectorizer = TfidfVectorizer(max_features=10000, ngram_range=(1,2), min_df=2)\n",
        "X_train_vec = vectorizer.fit_transform(X_train)\n",
        "X_test_vec = vectorizer.transform(X_test)\n",
        "\n",
        "clf = LogisticRegression(max_iter=1000, n_jobs=None)\n",
        "clf.fit(X_train_vec, y_train)\n",
        "\n",
        "preds = clf.predict(X_test_vec)\n",
        "probs = clf.predict_proba(X_test_vec) if hasattr(clf, 'predict_proba') else None\n",
        "acc = accuracy_score(y_test, preds)\n",
        "print('Accuracy:', acc)\n",
        "print(classification_report(y_test, preds))\n",
        "confusion_matrix(y_test, preds)"
      ]
    },
    {
      "cell_type": "markdown",
      "metadata": {},
      "source": [
        "## Save model for inference"
      ]
    },
    {
      "cell_type": "code",
      "execution_count": null,
      "metadata": {},
      "outputs": [],
      "source": [
        "model_path = os.path.join(MODEL_DIR, 'sklearn_logreg_tfidf.joblib')\n",
        "vec_path = os.path.join(MODEL_DIR, 'tfidf_vectorizer.joblib')\n",
        "joblib.dump(clf, model_path)\n",
        "joblib.dump(vectorizer, vec_path)\n",
        "model_path, vec_path"
      ]
    },
    {
      "cell_type": "markdown",
      "metadata": {},
      "source": [
        "## Quick inference demo"
      ]
    },
    {
      "cell_type": "code",
      "execution_count": null,
      "metadata": {},
      "outputs": [],
      "source": [
        "loaded_model = joblib.load(model_path)\n",
        "loaded_vec = joblib.load(vec_path)\n",
        "\n",
        "sample_texts = [\n",
        "    'What a wonderful surprise, this is great!',\n",
        "    'Terrible outcome, would not recommend.',\n",
        "    'It works as expected.'\n",
        "]\n",
        "sample_vec = loaded_vec.transform(sample_texts)\n",
        "pred_labels = loaded_model.predict(sample_vec)\n",
        "pred_probs = loaded_model.predict_proba(sample_vec)\n",
        "list(zip(sample_texts, pred_labels, pred_probs.max(axis=1)))"
      ]
    }
  ],
  "metadata": {
    "kernelspec": {
      "display_name": "Python 3",
      "language": "python",
      "name": "python3"
    },
    "language_info": {
      "name": "python",
      "version": "3.10"
    }
  },
  "nbformat": 4,
  "nbformat_minor": 5
}
