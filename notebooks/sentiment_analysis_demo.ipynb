{
 "cells": [
  {
   "cell_type": "markdown",
   "metadata": {},
   "source": [
    "# Sentiment Analysis Demo\n",
    "\n",
    "This notebook demonstrates basic sentiment analysis using the sentiment-analysis-ml package."
   ]
  },
  {
   "cell_type": "markdown",
   "metadata": {},
   "source": [
    "## Setup and Imports"
   ]
  },
  {
   "cell_type": "code",
   "execution_count": null,
   "metadata": {},
   "outputs": [],
   "source": [
    "import sys\n",
    "import pandas as pd\n",
    "import matplotlib.pyplot as plt\n",
    "import seaborn as sns\n",
    "\n",
    "# Import our sentiment analyzer\n",
    "from src.predict import SentimentAnalyzer\n",
    "\n",
    "# Set style for plots\n",
    "sns.set_style('whitegrid')\n",
    "%matplotlib inline"
   ]
  },
  {
   "cell_type": "markdown",
   "metadata": {},
   "source": [
    "## Initialize Analyzer"
   ]
  },
  {
   "cell_type": "code",
   "execution_count": null,
   "metadata": {},
   "outputs": [],
   "source": [
    "# Create sentiment analyzer instance\n",
    "analyzer = SentimentAnalyzer()\n",
    "print('Sentiment Analyzer initialized successfully!')"
   ]
  },
  {
   "cell_type": "markdown",
   "metadata": {},
   "source": [
    "## Example 1: Single Text Analysis"
   ]
  },
  {
   "cell_type": "code",
   "execution_count": null,
   "metadata": {},
   "outputs": [],
   "source": [
    "# Analyze a single text\n",
    "text = \"This product is absolutely amazing! I love it so much.\"\n",
    "result = analyzer.predict(text)\n",
    "\n",
    "print(f'Text: {result[\"text\"]}')",
    "\n",
    "print(f'Sentiment: {result[\"sentiment\"]}')",
    "\n",
    "print(f'Confidence: {result[\"confidence\"]:.2%}')"
   ]
  },
  {
   "cell_type": "markdown",
   "metadata": {},
   "source": [
    "## Example 2: Multiple Texts Analysis"
   ]
  },
  {
   "cell_type": "code",
   "execution_count": null,
   "metadata": {},
   "outputs": [],
   "source": [
    "# Sample texts\n",
    "texts = [\n",
    "    \"This movie was fantastic! Best film of the year.\",\n",
    "    \"Terrible service. Very disappointed.\",\n",
    "    \"It was okay, nothing special.\",\n",
    "    \"Absolutely love this restaurant! Great food and service.\",\n",
    "    \"Worst experience ever. Would not recommend.\"\n",
    "]\n",
    "\n",
    "# Analyze all texts\n",
    "results = analyzer.predict(texts)\n",
    "\n",
    "# Display results\n",
    "df = pd.DataFrame(results)\n",
    "print(df)"
   ]
  },
  {
   "cell_type": "markdown",
   "metadata": {},
   "source": [
    "## Example 3: Visualizing Sentiment Distribution"
   ]
  },
  {
   "cell_type": "code",
   "execution_count": null,
   "metadata": {},
   "outputs": [],
   "source": [
    "# Count sentiment distribution\n",
    "sentiment_counts = df['sentiment'].value_counts()\n",
    "\n",
    "# Create pie chart\n",
    "plt.figure(figsize=(8, 6))\n",
    "plt.pie(sentiment_counts.values, labels=sentiment_counts.index, \n",
    "        autopct='%1.1f%%', startangle=90, colors=['#90EE90', '#FFB6C1', '#87CEEB'])\n",
    "plt.title('Sentiment Distribution')\n",
    "plt.axis('equal')\n",
    "plt.show()"
   ]
  },
  {
   "cell_type": "markdown",
   "metadata": {},
   "source": [
    "## Example 4: Confidence Score Analysis"
   ]
  },
  {
   "cell_type": "code",
   "execution_count": null,
   "metadata": {},
   "outputs": [],
   "source": [
    "# Plot confidence scores\n",
    "plt.figure(figsize=(10, 6))\n",
    "colors = {'positive': 'green', 'negative': 'red', 'neutral': 'gray'}\n",
    "bar_colors = [colors[s] for s in df['sentiment']]\n",
    "\n",
    "plt.bar(range(len(df)), df['confidence'], color=bar_colors, alpha=0.7)\n",
    "plt.xlabel('Sample Index')\n",
    "plt.ylabel('Confidence Score')\n",
    "plt.title('Confidence Scores by Sample')\n",
    "plt.xticks(range(len(df)))\n",
    "plt.ylim(0, 1)\n",
    "plt.grid(axis='y', alpha=0.3)\n",
    "plt.show()"
   ]
  },
  {
   "cell_type": "markdown",
   "metadata": {},
   "source": [
    "## Example 5: Custom Text Input"
   ]
  },
  {
   "cell_type": "code",
   "execution_count": null,
   "metadata": {},
   "outputs": [],
   "source": [
    "# Try your own text\n",
    "custom_text = \"Enter your text here to analyze sentiment\"\n",
    "\n",
    "result = analyzer.predict(custom_text)\n",
    "print(f'\\nYour text: {result[\"text\"]}')",
    "\n",
    "print(f'Sentiment: {result[\"sentiment\"].upper()}')",
    "\n",
    "print(f'Confidence: {result[\"confidence\"]:.2%}')"
   ]
  },
  {
   "cell_type": "markdown",
   "metadata": {},
   "source": [
    "## Conclusion\n",
    "\n",
    "This notebook demonstrated:\n",
    "- Basic sentiment analysis on single and multiple texts\n",
    "- Visualization of sentiment distributions\n",
    "- Confidence score analysis\n",
    "- Interactive custom text analysis\n",
    "\n",
    "Next steps:\n",
    "- Train custom models with your own data\n",
    "- Experiment with different preprocessing techniques\n",
    "- Integrate with real-time data sources"
   ]
  }
 ],
 "metadata": {
  "kernelspec": {
   "display_name": "Python 3",
   "language": "python",
   "name": "python3"
  },
  "language_info": {
   "codemirror_mode": {
    "name": "ipython",
    "version": 3
   },
   "file_extension": ".py",
   "mimetype": "text/x-python",
   "name": "python",
   "nbconvert_exporter": "python",
   "pygments_lexer": "ipython3",
   "version": "3.8.0"
  }
 },
 "nbformat": 4,
 "nbformat_minor": 4
}
